{
 "cells": [
  {
   "cell_type": "markdown",
   "id": "af5a1b7d",
   "metadata": {},
   "source": [
    "# Save rosbags as binary or csv"
   ]
  },
  {
   "cell_type": "code",
   "execution_count": null,
   "id": "17ab3ed2",
   "metadata": {},
   "outputs": [
    {
     "name": "stdout",
     "output_type": "stream",
     "text": [
      "Found ROS 2 bag: data/6m_1/ROSBAG_2025-04-28_11-44-43.536/ROSBAG_2025-04-28_11-44-43.536_0.db3\n",
      "Found ROS 2 bag: data/6m_1/sensor_bag_20250428_114442/sensor_bag_20250428_114442_0.db3\n"
     ]
    },
    {
     "name": "stderr",
     "output_type": "stream",
     "text": [
      "[INFO] [1747220513.166729187] [rosbag2_storage]: Opened database 'data/6m_1/ROSBAG_2025-04-28_11-44-43.536/ROSBAG_2025-04-28_11-44-43.536_0.db3' for READ_ONLY.\n",
      "[INFO] [1747220513.344451175] [rosbag2_storage]: Opened database 'data/6m_1/sensor_bag_20250428_114442/sensor_bag_20250428_114442_0.db3' for READ_ONLY.\n"
     ]
    }
   ],
   "source": [
    "from aux.gpx_read import *\n",
    "from aux.imu_read import *\n",
    "from aux.lidar_read import *\n",
    "from aux.navsat_read import *\n",
    "from aux.px4_read import *\n",
    "from aux.rosbag_aux import *\n",
    "from aux.srr308_read import *\n",
    "\n",
    "import datetime\n",
    "\n",
    "\n",
    "test_num = 2\n",
    "test_names = ['6m_1', '6m_2', '50m_1', '50m_2', '80m_1', '80m_2']\n",
    "name = test_names[test_num]\n",
    "folder_path = 'data/' + name\n",
    "db3_reader = get_db3_reader(folder_path, 'ROSBAG*')\n",
    "db3_px4_reader = get_db3_reader(folder_path, 'sensor_bag*')\n",
    "\n",
    "# create all data frames to find the first timestamp to reference every other DF to\n",
    "baro_df = get_baro_df_from_db3_reader(db3_px4_reader)\n",
    "gyro_df = get_gyro_df_from_db3_reader(db3_px4_reader)\n",
    "acc_df = get_acc_df_from_db3_reader(db3_px4_reader)\n",
    "imu_df = get_imu_df_from_db3_reader(db3_px4_reader)\n",
    "sc_df = get_sensor_combined_df_from_db3_reader(db3_px4_reader)\n",
    "radar_df = get_srr308_pointcloud_df_from_db3_reader(db3_reader)\n",
    "lidar_df = get_lidar_df_from_db3_reader(db3_reader)\n",
    "vel_df = get_velocity_df_from_db3_reader(db3_reader)\n",
    "baro_df = get_baro_df_from_db3_reader(db3_px4_reader)"
   ]
  },
  {
   "cell_type": "code",
   "execution_count": 3,
   "id": "cf031963",
   "metadata": {},
   "outputs": [
    {
     "data": {
      "text/html": [
       "<div>\n",
       "<style scoped>\n",
       "    .dataframe tbody tr th:only-of-type {\n",
       "        vertical-align: middle;\n",
       "    }\n",
       "\n",
       "    .dataframe tbody tr th {\n",
       "        vertical-align: top;\n",
       "    }\n",
       "\n",
       "    .dataframe thead th {\n",
       "        text-align: right;\n",
       "    }\n",
       "</style>\n",
       "<table border=\"1\" class=\"dataframe\">\n",
       "  <thead>\n",
       "    <tr style=\"text-align: right;\">\n",
       "      <th></th>\n",
       "      <th>timestamp</th>\n",
       "      <th>timestamp_sample</th>\n",
       "      <th>points</th>\n",
       "    </tr>\n",
       "  </thead>\n",
       "  <tbody>\n",
       "    <tr>\n",
       "      <th>0</th>\n",
       "      <td>1745833484111649280</td>\n",
       "      <td>1.745833e+09</td>\n",
       "      <td>[[10.668014, -22.166494, 0.0]]</td>\n",
       "    </tr>\n",
       "    <tr>\n",
       "      <th>1</th>\n",
       "      <td>1745833484130180634</td>\n",
       "      <td>1.745833e+09</td>\n",
       "      <td>[[10.000174, -21.15553, 0.0]]</td>\n",
       "    </tr>\n",
       "    <tr>\n",
       "      <th>2</th>\n",
       "      <td>1745833484156386832</td>\n",
       "      <td>1.745833e+09</td>\n",
       "      <td>[[2.178052, 0.30998272, 0.0], [3.8760629, 0.98...</td>\n",
       "    </tr>\n",
       "    <tr>\n",
       "      <th>3</th>\n",
       "      <td>1745833484168084280</td>\n",
       "      <td>1.745833e+09</td>\n",
       "      <td>[[9.841427, -21.009195, 0.0]]</td>\n",
       "    </tr>\n",
       "    <tr>\n",
       "      <th>4</th>\n",
       "      <td>1745833484180438655</td>\n",
       "      <td>1.745833e+09</td>\n",
       "      <td>[[10.180786, -21.733652, 0.0]]</td>\n",
       "    </tr>\n",
       "  </tbody>\n",
       "</table>\n",
       "</div>"
      ],
      "text/plain": [
       "             timestamp  timestamp_sample  \\\n",
       "0  1745833484111649280      1.745833e+09   \n",
       "1  1745833484130180634      1.745833e+09   \n",
       "2  1745833484156386832      1.745833e+09   \n",
       "3  1745833484168084280      1.745833e+09   \n",
       "4  1745833484180438655      1.745833e+09   \n",
       "\n",
       "                                              points  \n",
       "0                     [[10.668014, -22.166494, 0.0]]  \n",
       "1                      [[10.000174, -21.15553, 0.0]]  \n",
       "2  [[2.178052, 0.30998272, 0.0], [3.8760629, 0.98...  \n",
       "3                      [[9.841427, -21.009195, 0.0]]  \n",
       "4                     [[10.180786, -21.733652, 0.0]]  "
      ]
     },
     "execution_count": 3,
     "metadata": {},
     "output_type": "execute_result"
    }
   ],
   "source": [
    "radar_pkl = radar_df.to_pickle(\"pkl_bags/\"+name+\".pkl\")\n",
    "radar_df_unpickled = pd.read_pickle(\"pkl_bags/\"+name+\".pkl\")\n",
    "radar_df_unpickled.head()"
   ]
  },
  {
   "cell_type": "code",
   "execution_count": 4,
   "id": "5a9e17bf",
   "metadata": {},
   "outputs": [
    {
     "data": {
      "text/html": [
       "<div>\n",
       "<style scoped>\n",
       "    .dataframe tbody tr th:only-of-type {\n",
       "        vertical-align: middle;\n",
       "    }\n",
       "\n",
       "    .dataframe tbody tr th {\n",
       "        vertical-align: top;\n",
       "    }\n",
       "\n",
       "    .dataframe thead th {\n",
       "        text-align: right;\n",
       "    }\n",
       "</style>\n",
       "<table border=\"1\" class=\"dataframe\">\n",
       "  <thead>\n",
       "    <tr style=\"text-align: right;\">\n",
       "      <th></th>\n",
       "      <th>timestamp</th>\n",
       "      <th>timestamp_sample</th>\n",
       "      <th>points</th>\n",
       "    </tr>\n",
       "  </thead>\n",
       "  <tbody>\n",
       "    <tr>\n",
       "      <th>0</th>\n",
       "      <td>1745833484111649280</td>\n",
       "      <td>1.745833e+09</td>\n",
       "      <td>[[10.668014, -22.166494, 0.0]]</td>\n",
       "    </tr>\n",
       "    <tr>\n",
       "      <th>1</th>\n",
       "      <td>1745833484130180634</td>\n",
       "      <td>1.745833e+09</td>\n",
       "      <td>[[10.000174, -21.15553, 0.0]]</td>\n",
       "    </tr>\n",
       "    <tr>\n",
       "      <th>2</th>\n",
       "      <td>1745833484156386832</td>\n",
       "      <td>1.745833e+09</td>\n",
       "      <td>[[2.178052, 0.30998272, 0.0], [3.8760629, 0.98...</td>\n",
       "    </tr>\n",
       "    <tr>\n",
       "      <th>3</th>\n",
       "      <td>1745833484168084280</td>\n",
       "      <td>1.745833e+09</td>\n",
       "      <td>[[9.841427, -21.009195, 0.0]]</td>\n",
       "    </tr>\n",
       "    <tr>\n",
       "      <th>4</th>\n",
       "      <td>1745833484180438655</td>\n",
       "      <td>1.745833e+09</td>\n",
       "      <td>[[10.180786, -21.733652, 0.0]]</td>\n",
       "    </tr>\n",
       "  </tbody>\n",
       "</table>\n",
       "</div>"
      ],
      "text/plain": [
       "             timestamp  timestamp_sample  \\\n",
       "0  1745833484111649280      1.745833e+09   \n",
       "1  1745833484130180634      1.745833e+09   \n",
       "2  1745833484156386832      1.745833e+09   \n",
       "3  1745833484168084280      1.745833e+09   \n",
       "4  1745833484180438655      1.745833e+09   \n",
       "\n",
       "                                              points  \n",
       "0                     [[10.668014, -22.166494, 0.0]]  \n",
       "1                      [[10.000174, -21.15553, 0.0]]  \n",
       "2  [[2.178052, 0.30998272, 0.0], [3.8760629, 0.98...  \n",
       "3                      [[9.841427, -21.009195, 0.0]]  \n",
       "4                     [[10.180786, -21.733652, 0.0]]  "
      ]
     },
     "execution_count": 4,
     "metadata": {},
     "output_type": "execute_result"
    }
   ],
   "source": [
    "radar_df.head()"
   ]
  }
 ],
 "metadata": {
  "kernelspec": {
   "display_name": "Python 3",
   "language": "python",
   "name": "python3"
  },
  "language_info": {
   "codemirror_mode": {
    "name": "ipython",
    "version": 3
   },
   "file_extension": ".py",
   "mimetype": "text/x-python",
   "name": "python",
   "nbconvert_exporter": "python",
   "pygments_lexer": "ipython3",
   "version": "3.12.3"
  }
 },
 "nbformat": 4,
 "nbformat_minor": 5
}
