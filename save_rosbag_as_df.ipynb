{
 "cells": [
  {
   "cell_type": "markdown",
   "id": "af5a1b7d",
   "metadata": {},
   "source": [
    "# Save rosbags as binary or csv"
   ]
  },
  {
   "cell_type": "code",
   "execution_count": 5,
   "id": "17ab3ed2",
   "metadata": {},
   "outputs": [],
   "source": [
    "from aux.gpx_read import *\n",
    "from aux.imu_read import *\n",
    "from aux.lidar_read import *\n",
    "from aux.navsat_read import *\n",
    "from aux.px4_read import *\n",
    "from aux.rosbag_aux import *\n",
    "from aux.srr308_read import *\n",
    "\n",
    "import datetime"
   ]
  },
  {
   "cell_type": "code",
   "execution_count": 6,
   "id": "d7a1f8f6",
   "metadata": {},
   "outputs": [
    {
     "name": "stdout",
     "output_type": "stream",
     "text": [
      "Found ROS 2 bag: data/6m_1/ROSBAG_2025-04-28_11-44-43.536/ROSBAG_2025-04-28_11-44-43.536_0.db3\n",
      "Found ROS 2 bag: data/6m_1/sensor_bag_20250428_114442/sensor_bag_20250428_114442_0.db3\n"
     ]
    },
    {
     "name": "stderr",
     "output_type": "stream",
     "text": [
      "[INFO] [1747221574.759778438] [rosbag2_storage]: Opened database 'data/6m_1/ROSBAG_2025-04-28_11-44-43.536/ROSBAG_2025-04-28_11-44-43.536_0.db3' for READ_ONLY.\n",
      "[INFO] [1747221574.959313966] [rosbag2_storage]: Opened database 'data/6m_1/sensor_bag_20250428_114442/sensor_bag_20250428_114442_0.db3' for READ_ONLY.\n"
     ]
    },
    {
     "name": "stdout",
     "output_type": "stream",
     "text": [
      "Found ROS 2 bag: data/6m_2/ROSBAG_2025-04-28_15-19-51.948/ROSBAG_2025-04-28_15-19-51.948_0.db3\n",
      "Found ROS 2 bag: data/6m_2/sensor_bag_20250428_151951/sensor_bag_20250428_151951_0.db3\n"
     ]
    },
    {
     "name": "stderr",
     "output_type": "stream",
     "text": [
      "[INFO] [1747221583.019219579] [rosbag2_storage]: Opened database 'data/6m_2/ROSBAG_2025-04-28_15-19-51.948/ROSBAG_2025-04-28_15-19-51.948_0.db3' for READ_ONLY.\n",
      "[INFO] [1747221583.164319015] [rosbag2_storage]: Opened database 'data/6m_2/sensor_bag_20250428_151951/sensor_bag_20250428_151951_0.db3' for READ_ONLY.\n"
     ]
    },
    {
     "name": "stdout",
     "output_type": "stream",
     "text": [
      "Found ROS 2 bag: data/50m_1/ROSBAG_2025-04-28_12-21-24.378/ROSBAG_2025-04-28_12-21-24.378_0.db3\n",
      "Found ROS 2 bag: data/50m_1/sensor_bag_20250428_122123/sensor_bag_20250428_122123_0.db3\n"
     ]
    },
    {
     "name": "stderr",
     "output_type": "stream",
     "text": [
      "[INFO] [1747221589.168572082] [rosbag2_storage]: Opened database 'data/50m_1/ROSBAG_2025-04-28_12-21-24.378/ROSBAG_2025-04-28_12-21-24.378_0.db3' for READ_ONLY.\n",
      "[INFO] [1747221589.448095965] [rosbag2_storage]: Opened database 'data/50m_1/sensor_bag_20250428_122123/sensor_bag_20250428_122123_0.db3' for READ_ONLY.\n"
     ]
    },
    {
     "name": "stdout",
     "output_type": "stream",
     "text": [
      "Found ROS 2 bag: data/50m_2/ROSBAG_2025-04-28_16-05-52.540/ROSBAG_2025-04-28_16-05-52.540_0.db3\n",
      "Found ROS 2 bag: data/50m_2/sensor_bag_20250428_160551/sensor_bag_20250428_160551_0.db3\n"
     ]
    },
    {
     "name": "stderr",
     "output_type": "stream",
     "text": [
      "[INFO] [1747221601.033606404] [rosbag2_storage]: Opened database 'data/50m_2/ROSBAG_2025-04-28_16-05-52.540/ROSBAG_2025-04-28_16-05-52.540_0.db3' for READ_ONLY.\n",
      "[INFO] [1747221601.332213023] [rosbag2_storage]: Opened database 'data/50m_2/sensor_bag_20250428_160551/sensor_bag_20250428_160551_0.db3' for READ_ONLY.\n"
     ]
    },
    {
     "name": "stdout",
     "output_type": "stream",
     "text": [
      "Found ROS 2 bag: data/80m_1/ROSBAG_2025-04-28_11-56-16.046/ROSBAG_2025-04-28_11-56-16.046_0.db3\n",
      "Found ROS 2 bag: data/80m_1/sensor_bag_20250428_115615/sensor_bag_20250428_115615_0.db3\n"
     ]
    },
    {
     "name": "stderr",
     "output_type": "stream",
     "text": [
      "[INFO] [1747221611.154370690] [rosbag2_storage]: Opened database 'data/80m_1/ROSBAG_2025-04-28_11-56-16.046/ROSBAG_2025-04-28_11-56-16.046_0.db3' for READ_ONLY.\n",
      "[INFO] [1747221611.483292342] [rosbag2_storage]: Opened database 'data/80m_1/sensor_bag_20250428_115615/sensor_bag_20250428_115615_0.db3' for READ_ONLY.\n"
     ]
    },
    {
     "name": "stdout",
     "output_type": "stream",
     "text": [
      "Found ROS 2 bag: data/80m_2/ROSBAG_2025-04-28_14-46-44.434/ROSBAG_2025-04-28_14-46-44.434_0.db3\n",
      "Found ROS 2 bag: data/80m_2/sensor_bag_20250428_144643/sensor_bag_20250428_144643_0.db3\n"
     ]
    },
    {
     "name": "stderr",
     "output_type": "stream",
     "text": [
      "[INFO] [1747221622.701570817] [rosbag2_storage]: Opened database 'data/80m_2/ROSBAG_2025-04-28_14-46-44.434/ROSBAG_2025-04-28_14-46-44.434_0.db3' for READ_ONLY.\n",
      "[INFO] [1747221623.008791223] [rosbag2_storage]: Opened database 'data/80m_2/sensor_bag_20250428_144643/sensor_bag_20250428_144643_0.db3' for READ_ONLY.\n"
     ]
    }
   ],
   "source": [
    "test_names = ['6m_1', '6m_2', '50m_1', '50m_2', '80m_1', '80m_2']\n",
    "\n",
    "for test_name in test_names:\n",
    "    folder_path = 'data/' + test_name\n",
    "    db3_reader = get_db3_reader(folder_path, 'ROSBAG*')\n",
    "    db3_px4_reader = get_db3_reader(folder_path, 'sensor_bag*')\n",
    "\n",
    "    # create all data frames to find the first timestamp to reference every other DF to\n",
    "    baro_df = get_baro_df_from_db3_reader(db3_px4_reader)\n",
    "    baro_df.to_pickle(\"pkl_bags/\"+test_name+\"_baro.pkl\")\n",
    "\n",
    "    gyro_df = get_gyro_df_from_db3_reader(db3_px4_reader)\n",
    "    gyro_df.to_pickle(\"pkl_bags/\"+test_name+\"_gyro.pkl\")\n",
    "    \n",
    "    acc_df = get_acc_df_from_db3_reader(db3_px4_reader)\n",
    "    acc_df.to_pickle(\"pkl_bags/\"+test_name+\"_acc.pkl\")\n",
    "    \n",
    "    imu_df = get_imu_df_from_db3_reader(db3_px4_reader)\n",
    "    imu_df.to_pickle(\"pkl_bags/\"+test_name+\"_imu.pkl\")\n",
    "    \n",
    "    sc_df = get_sensor_combined_df_from_db3_reader(db3_px4_reader)\n",
    "    sc_df.to_pickle(\"pkl_bags/\"+test_name+\"_sc.pkl\")\n",
    "    \n",
    "    radar_df = get_srr308_pointcloud_df_from_db3_reader(db3_reader)\n",
    "    radar_df.to_pickle(\"pkl_bags/\"+test_name+\"_radar.pkl\")\n",
    "    \n",
    "    lidar_df = get_lidar_df_from_db3_reader(db3_reader)\n",
    "    lidar_df.to_pickle(\"pkl_bags/\"+test_name+\"_lidar.pkl\")\n",
    "    \n",
    "    vel_df = get_velocity_df_from_db3_reader(db3_reader)\n",
    "    vel_df.to_pickle(\"pkl_bags/\"+test_name+\"_vel.pkl\")"
   ]
  }
 ],
 "metadata": {
  "kernelspec": {
   "display_name": "Python 3",
   "language": "python",
   "name": "python3"
  },
  "language_info": {
   "codemirror_mode": {
    "name": "ipython",
    "version": 3
   },
   "file_extension": ".py",
   "mimetype": "text/x-python",
   "name": "python",
   "nbconvert_exporter": "python",
   "pygments_lexer": "ipython3",
   "version": "3.12.3"
  }
 },
 "nbformat": 4,
 "nbformat_minor": 5
}
